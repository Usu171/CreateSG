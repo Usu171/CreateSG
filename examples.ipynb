{
 "cells": [
  {
   "cell_type": "code",
   "execution_count": 1,
   "id": "cf62986d",
   "metadata": {},
   "outputs": [],
   "source": [
    "import CreateSG as csg"
   ]
  },
  {
   "cell_type": "code",
   "execution_count": null,
   "id": "ca759ede",
   "metadata": {},
   "outputs": [],
   "source": [
    "arm = csg.ArmNBT(origin=[9, -63, 19])  # 机械臂位置，不输入origin则默认为[0, 0, 0]\n",
    "\n",
    "arm.add_interaction_point(\n",
    "    type_str='create:depot',  # 置物台\n",
    "    mode='TAKE',  # 输入\n",
    "    pos=[-5, -63, 19],  # 位置\n",
    ")\n",
    "\n",
    "arm.add_interaction_point(\n",
    "    type_str='create:depot',\n",
    "    mode='DEPOSIT',  # 输出\n",
    "    pos=[1009, -63, 19],\n",
    ")\n",
    "\n",
    "arm.save('arm.nbt')"
   ]
  },
  {
   "cell_type": "code",
   "execution_count": null,
   "id": "c6affece",
   "metadata": {},
   "outputs": [],
   "source": [
    "conveyor = csg.ConveyorNBT()\n",
    "conveyor.add_connection([0, 1000, 0]) # 连接点在传动轮的~ ~1000 ~\n",
    "conveyor.save('conveyor.nbt')"
   ]
  },
  {
   "cell_type": "code",
   "execution_count": null,
   "id": "53e0a825",
   "metadata": {},
   "outputs": [],
   "source": [
    "csg.generate_connected_conveyors([1000, 0, 0]) # 生成双向传动轮蓝图，conveyor_main和conveyor_1"
   ]
  }
 ],
 "metadata": {
  "kernelspec": {
   "display_name": "base",
   "language": "python",
   "name": "python3"
  },
  "language_info": {
   "codemirror_mode": {
    "name": "ipython",
    "version": 3
   },
   "file_extension": ".py",
   "mimetype": "text/x-python",
   "name": "python",
   "nbconvert_exporter": "python",
   "pygments_lexer": "ipython3",
   "version": "3.10.13"
  }
 },
 "nbformat": 4,
 "nbformat_minor": 5
}
